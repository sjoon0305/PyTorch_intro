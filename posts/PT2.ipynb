{
 "cells": [
  {
   "cell_type": "raw",
   "id": "5075a0e9-a833-48f4-ba8e-8adf901d9ea4",
   "metadata": {},
   "source": [
    "---\n",
    "title: \"파이토치 딥러닝 마스터 2장\"\n",
    "author: \"유성준\"\n",
    "date: \"02/07/2024\"\n",
    "categories: [Deep Learning, Python, PyTorch]\n",
    "---"
   ]
  },
  {
   "cell_type": "markdown",
   "id": "55dc0b93-918f-40a0-93c6-d2f3b54091e7",
   "metadata": {},
   "source": [
    "# 2장 사전 훈련된 신경망"
   ]
  },
  {
   "cell_type": "markdown",
   "id": "f75cea4b-2313-44c1-805c-f1dadc6305b4",
   "metadata": {},
   "source": [
    "- 사전 훈련된 이미지 인식 모델 돌려보기\n",
    "- GAN 과 사이클 GAN 을 소개\n",
    "- 이미지에서 텍스트 설명을 만들어낼 수 있는 자막 모델과 토치 허브에 모델 공유를 알아본다"
   ]
  },
  {
   "cell_type": "markdown",
   "id": "68f53301-130c-473c-a368-a06031a27917",
   "metadata": {},
   "source": [
    "> 사전 훈련된 인기있는 모델 3가지"
   ]
  },
  {
   "cell_type": "markdown",
   "id": "104424c3-5f74-4512-9326-aca0aeace94c",
   "metadata": {},
   "source": [
    "- 이미지를 이해하고 레이블을 달아주는 모델\n",
    "- 진짜 이미지로부터 새로운 이미지를 만들어내는 모델\n",
    "- 이미지의 내용을 문법에 맞게 영어 문장으로 설명하는 모델"
   ]
  },
  {
   "cell_type": "markdown",
   "id": "5479a4ac-649d-4a61-ad75-13f831811ea0",
   "metadata": {},
   "source": [
    "## 2.1 이미지를 인식하는 사전 훈련된 신경망"
   ]
  },
  {
   "cell_type": "markdown",
   "id": "8e6e80c9-9cbd-4e80-80e9-1c02da5e8f6b",
   "metadata": {},
   "source": [
    "$$\n",
    "\\nabla_{w}L = \\frac{\\partial L}{\\partial w} = \\frac{\\partial L}{\\partial M} \\cdot \\frac{\\partial M}{\\partial w}\n",
    "$$"
   ]
  }
 ],
 "metadata": {
  "kernelspec": {
   "display_name": "Python 3 (ipykernel)",
   "language": "python",
   "name": "python3"
  },
  "language_info": {
   "codemirror_mode": {
    "name": "ipython",
    "version": 3
   },
   "file_extension": ".py",
   "mimetype": "text/x-python",
   "name": "python",
   "nbconvert_exporter": "python",
   "pygments_lexer": "ipython3",
   "version": "3.10.13"
  }
 },
 "nbformat": 4,
 "nbformat_minor": 5
}
