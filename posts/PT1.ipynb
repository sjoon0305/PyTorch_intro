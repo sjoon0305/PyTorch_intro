{
 "cells": [
  {
   "cell_type": "raw",
   "id": "be805334-8604-4b2b-ba99-6a6b41cedd1c",
   "metadata": {},
   "source": [
    "---\n",
    "title: \"파이토치 딥러닝 마스터 1장\"\n",
    "subject: \"딥러닝과 파이토치 라이브러리 소개\"\n",
    "date: \"02/06/2024\"\n",
    "categories: [Deep Learning, Python, PyTorch]\n",
    "---"
   ]
  },
  {
   "cell_type": "markdown",
   "id": "f97a41cd-5ced-4576-a73d-8651163431ad",
   "metadata": {},
   "source": [
    "## 1.1 딥러닝 혁명"
   ]
  },
  {
   "cell_type": "markdown",
   "id": "a89583ab-b2ab-45fc-a788-12a91c779b78",
   "metadata": {},
   "source": [
    "딥러닝은 인공지능의 하위 범주로 훈련 가능한 데이터들을 활용하여 심층 심경망이라는 수학적 개체를 훈련시키는 일을 한다. 즉, 딥러닝은 대량의 데이터를 사용해 입력과 출력이 동떨어진 복잡한 함수들을 근사하는 방법을 사용한다."
   ]
  },
  {
   "cell_type": "markdown",
   "id": "7363f373-8366-442a-b5b1-351b8ea6ea3a",
   "metadata": {},
   "source": [
    "> 기존의 머신러닝 vs 딥러닝(패러다임의 전환)"
   ]
  },
  {
   "cell_type": "markdown",
   "id": "756810e1-816d-4edb-89f8-2aefca769b07",
   "metadata": {},
   "source": [
    "- 기존의 머신러닝을 이용한 시스템은 피처 엔지니어링(feature engineering)에 크게 의존하였다.\n",
    "- 이는 새로운 데이터를 기반으로 올바른 결과물을 낼 수 있도록 데이터 전처리 과정이 필요하다.\n",
    "- 반면 딥러닝의 경우 데이터 전처리(변환) 과정 없이 원본 데이터로 부터 답을 도출한다.\n",
    "- 딥러닝 실무에서는 표현을 수작업으로 만드는 것(머신러닝) 보다 수학적 개체(신경망 모델)를 조작해 훈련 데이터 로 부터  표현을 자동으로 훈련시키는 데에 집중한다. \n",
    "- 훈련을 시킬 때에는 기준을 통해 점점 더 낮은 점수(손실이 낮아지도록) 점진적으로 딥러닝 머신을 변경"
   ]
  }
 ],
 "metadata": {
  "kernelspec": {
   "display_name": "Python 3 (ipykernel)",
   "language": "python",
   "name": "python3"
  },
  "language_info": {
   "codemirror_mode": {
    "name": "ipython",
    "version": 3
   },
   "file_extension": ".py",
   "mimetype": "text/x-python",
   "name": "python",
   "nbconvert_exporter": "python",
   "pygments_lexer": "ipython3",
   "version": "3.10.13"
  }
 },
 "nbformat": 4,
 "nbformat_minor": 5
}
