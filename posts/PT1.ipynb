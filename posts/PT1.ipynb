{
 "cells": [
  {
   "cell_type": "raw",
   "id": "be805334-8604-4b2b-ba99-6a6b41cedd1c",
   "metadata": {},
   "source": [
    "---\n",
    "title: \"파이토치 딥러닝 마스터 1장\"\n",
    "author: \"딥러닝과 파이토치 라이브러리 소개\"\n",
    "date: \"02/06/2024\"\n",
    "categories: [Deep Learning, Python, PyTorch]\n",
    "---"
   ]
  },
  {
   "cell_type": "markdown",
   "id": "f97a41cd-5ced-4576-a73d-8651163431ad",
   "metadata": {},
   "source": [
    "## 1.1 딥러닝 혁명"
   ]
  },
  {
   "cell_type": "code",
   "execution_count": null,
   "id": "6db8dc17-7886-492d-9b68-17f46c4335bf",
   "metadata": {},
   "outputs": [],
   "source": []
  }
 ],
 "metadata": {
  "kernelspec": {
   "display_name": "Python 3 (ipykernel)",
   "language": "python",
   "name": "python3"
  },
  "language_info": {
   "codemirror_mode": {
    "name": "ipython",
    "version": 3
   },
   "file_extension": ".py",
   "mimetype": "text/x-python",
   "name": "python",
   "nbconvert_exporter": "python",
   "pygments_lexer": "ipython3",
   "version": "3.10.13"
  }
 },
 "nbformat": 4,
 "nbformat_minor": 5
}
