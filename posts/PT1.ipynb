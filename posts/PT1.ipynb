{
 "cells": [
  {
   "cell_type": "raw",
   "id": "be805334-8604-4b2b-ba99-6a6b41cedd1c",
   "metadata": {},
   "source": [
    "---\n",
    "title: \"파이토치 딥러닝 마스터 1장\"\n",
    "author: \"유성준\"\n",
    "date: \"02/06/2024\"\n",
    "categories: [Deep Learning, Python, PyTorch]\n",
    "---"
   ]
  },
  {
   "cell_type": "markdown",
   "id": "f97a41cd-5ced-4576-a73d-8651163431ad",
   "metadata": {},
   "source": [
    "# 1장 딥러닝과 파이토치 라이블러리 소개"
   ]
  },
  {
   "cell_type": "markdown",
   "id": "0296a045-ea07-48ae-a293-4d6d01c94f1a",
   "metadata": {},
   "source": [
    "## 1.1 딥러닝 혁명"
   ]
  },
  {
   "cell_type": "markdown",
   "id": "7363f373-8366-442a-b5b1-351b8ea6ea3a",
   "metadata": {},
   "source": [
    "> 기존의 머신러닝 vs 딥러닝(패러다임의 전환)"
   ]
  },
  {
   "cell_type": "markdown",
   "id": "756810e1-816d-4edb-89f8-2aefca769b07",
   "metadata": {},
   "source": [
    "- 기존의 머신러닝을 이용한 시스템은 피처 엔지니어링(feature engineering)에 크게 의존\n",
    "- 이는 새로운 데이터를 기반으로 올바른 결과물을 낼 수 있도록 데이터 전처리 과정이 필요\n",
    "- 반면 딥러닝의 경우 데이터 전처리(변환) 과정 없이 원본 데이터로 부터 답을 도출\n",
    "- 딥러닝 실무에서는 표현을 수작업으로 만드는 것(머신러닝) 보다 수학적 개체(신경망 모델)를 조작해 훈련 데이터 로 부터  표현을 자동으로 훈련시키는 데에 집중\n",
    "- 훈련을 시킬 때에는 기준을 통해 점점 더 낮은 점수(손실이 낮아지도록) 점진적으로 딥러닝 머신을 변경"
   ]
  },
  {
   "cell_type": "markdown",
   "id": "5f3ca392-aa21-4aab-b425-5cbdfe0db8e7",
   "metadata": {},
   "source": [
    "![](https://velog.velcdn.com/images/conel77/post/34d364b4-63bf-4b01-88e8-21ed41c3ecb4/image.png)"
   ]
  },
  {
   "cell_type": "markdown",
   "id": "ecbbe399-0e60-4181-9336-c0164756aad1",
   "metadata": {},
   "source": [
    "`-` 딥러닝을 성공적으로 실행하기 위해 필요한 요구사항"
   ]
  },
  {
   "cell_type": "markdown",
   "id": "9c9c5a12-b6af-4ec4-9718-2a07bb0f4e09",
   "metadata": {},
   "source": [
    "- 가지고 있는 데이터가 무엇이든 일단 넣을 수 있어야한다.\n",
    "- 딥러닝 머신을 정의해야한다.\n",
    "- 유용한 표현을 얻고 머신이 원하는 출력 결과를 낼 수 있도록 자동화된 훈련 방법을 만들어야한다."
   ]
  },
  {
   "cell_type": "markdown",
   "id": "e7d3cf60-d89b-41fb-8eaf-a404154f46df",
   "metadata": {},
   "source": [
    "## 1.2 딥러닝을 위한 파이토치"
   ]
  },
  {
   "cell_type": "markdown",
   "id": "d6e2a5f8-7035-497e-82ec-651cf0705bb4",
   "metadata": {},
   "source": [
    "`-` 파이토치란?"
   ]
  },
  {
   "cell_type": "markdown",
   "id": "eaceffff-9002-4069-99a0-5429a68e966b",
   "metadata": {},
   "source": [
    "- 딥러닝 프로젝트를 위한 파이썬 프로그램 라이브러리\n",
    "- 파이토치는 현재 고수준의 작업을 위한 전문적인 도구로도 전혀 손색이 없음\n",
    "- 파이토치에서는 텐서(tensor) 라는 핵심 데이터 구조를 제공하여 전용 하드웨어를 활용하여 수학 연산을 빠르게수행\n",
    "- 파이토치는 신경망 아키텍처를 설계하고 개별 혹은 분산 컴퓨팅 자원에서 훈련하기 매우 편리하다는 장점"
   ]
  },
  {
   "cell_type": "markdown",
   "id": "cc3ffc0f-04ec-4ab9-8d4e-0f196a4a7417",
   "metadata": {},
   "source": [
    "> 텐서(tensor) 란?\n",
    "- 넘파이(NumPy) 배열과 여러면에서 유사한 다차원 배열. 차후 뒤에서 배운다."
   ]
  },
  {
   "cell_type": "markdown",
   "id": "d4459583-a786-4bed-aa44-1ed075dea4f5",
   "metadata": {},
   "source": [
    "## 파이토치를 쓰는 이유?\n",
    "- 딥러닝을 학습시키기 위해서는 다양한 문제에 적용할 수 있을 정도로 유연하면서도, 적당한 시간 안에 많은 양의 데이터로 훈련 가능한 효율적인 도구가 필요"
   ]
  },
  {
   "cell_type": "markdown",
   "id": "c2336bc8-b4a2-4a0c-ae5c-8555967e7ddf",
   "metadata": {},
   "source": [
    "1. 단순함\n",
    "- 파이토치는 학습이나 활용, 확장, 디버깅 면에서 모두 수월하다고한다. 파이토치는 파이썬스러운 면이 강하다. (텐서가 넘파이 구조체와 비슷하기 때문에, 파이썬처럼 interactive 하게 사용 가능하다. )"
   ]
  },
  {
   "cell_type": "markdown",
   "id": "64007073-daaf-424f-beee-d5b572fba5d0",
   "metadata": {},
   "source": [
    "2. 정교한 딥러닝에 최적화\n",
    "- 파이토치는 딥러닝을 위해 그래픽 연산 유닛인 GPU 로 연산을 가속할 수 있다. 이는 CPU 에서 처리하는 것보다 50배나 빠른 결과를 보여준다. 또한 훈련을 위해 딥러닝이 사용하는 일반 수학식에 대해 산술 최적화를 지원한다."
   ]
  },
  {
   "cell_type": "markdown",
   "id": "8163ca2d-44b8-4319-ac40-c40280103fb2",
   "metadata": {},
   "source": [
    "3. 다른 모델, 언어와 인터렉트가 가능\n",
    "- 파이썬에 의존하지 않고 추론 가능한 모델을 배포하기 위해 C++ 런타임을 갖추면서 다른 언어를 지원하는 바인딩과 모바일 장비에 배포하기 위한 인터페이스를 늘리고 있다. 파이토치의 유연함을 잘 보여준다."
   ]
  },
  {
   "cell_type": "markdown",
   "id": "056877b1-3a11-4e53-89ef-f3630908e500",
   "metadata": {},
   "source": [
    "## 1.3 파이토치 큰 흐름"
   ]
  },
  {
   "cell_type": "markdown",
   "id": "4a22f81e-5bd0-40e0-babc-28a88782b777",
   "metadata": {},
   "source": [
    "1. 파이토치는 기본적으로 다차원 배열 혹은 파이토치 언어로는 텐서라 부르는 자료구조를 사용하는 라이브러리이다. 따라서 텐서를 사용하는 다양한 연산 라이브러리를 torch 모듈 로 제공한다.\n",
    "\n",
    "2. 텐서 자료구조나 이를 사용한 연산은 CPU 나 GPU 함수 호출로 가능하다. 특정 텐서에 수행한 모든 연산을 기억해뒀다가 주어진 입력값을 기준으로 미분값을 자동 계산해준다.\n",
    "파이토치의 계산 최적화 기능 은 내부적으로 파이토치의 자동미분 엔진이 텐서를 사용하기 때문에 가능하다.\n",
    "\n",
    "3. 신경망 구축을 지원하는 파이토치 핵심 모듈은 torch.nn 에 있으며 공통적인 신경망과 아키텍처적인 구성 요소를 제공한다. (여기에 완전 연결 계층이나 컨볼루션층, 활성화 함수, 손실 함수가 모두 포함된다.)\n",
    "\n",
    "4. 추가적으로 모델 훈련을 위해 모델을 훈련 데이터에 맞춰주는 옵티마이저(optimizer) 와 모델과 데이터로 모델 훈련을 위해 필요한 계산을 수행할 하드웨어 등이 필요하다."
   ]
  },
  {
   "cell_type": "markdown",
   "id": "2d7ca288-e8aa-4e85-a48d-e7766a35288a",
   "metadata": {},
   "source": [
    "5. 가져온 데이터의 각각 샘플을 파이토치가 다룰 수 있는 텐서로 변환을 해야하는데, 이 때 torch.utils.data 에 있는 Dataset 클래스 가 필요하며 다양한 타입의 데이터를 원하는 형태의 텐서로 표현가능하다.\n",
    "\n",
    "6. 이렇게 변환된 텐서를 여러 개의 훈련 샘플을 묶어놓은 텐서 형태인 배치(batch) 로 데이터를 묶기 위해 병렬 처리가 필요하게된다. 이때 DataLoader 클래스 를 사용한다.\n",
    "\n",
    "7. 자, 이제 훈련을 진행하면, 훈련 루프는 매번 데이터 로더에서 얻은 샘플로 모델을 평가한다. 모델의 출력을 기대값과 비교하는 이때 criterion 혹은 손실 함수(loss function) 를 사용한다. 손실 함수 역시 torch.nn 에 있다.\n",
    "\n",
    "8. 손실 함수로 출력 결과를 이상적인 결과와 비교한 후 다음 출력이 목표 출력을 더 잘 모사하게끔 모델을 조정하는데, 여기서 파이토치 자동 미분 엔진 을 사용한다."
   ]
  }
 ],
 "metadata": {
  "kernelspec": {
   "display_name": "Python 3 (ipykernel)",
   "language": "python",
   "name": "python3"
  },
  "language_info": {
   "codemirror_mode": {
    "name": "ipython",
    "version": 3
   },
   "file_extension": ".py",
   "mimetype": "text/x-python",
   "name": "python",
   "nbconvert_exporter": "python",
   "pygments_lexer": "ipython3",
   "version": "3.10.13"
  }
 },
 "nbformat": 4,
 "nbformat_minor": 5
}
