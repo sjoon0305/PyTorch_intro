{
 "cells": [
  {
   "cell_type": "raw",
   "id": "dd80aad3-3cb5-4ac1-9abb-ba01379a9875",
   "metadata": {},
   "source": [
    "---\n",
    "title: \"파이토치 딥러닝 마스터 4장\"\n",
    "author: \"유성준\"\n",
    "date: \"02/12/2024\"\n",
    "categories: [Deep Learning, Python, PyTorch]\n",
    "---"
   ]
  },
  {
   "cell_type": "code",
   "execution_count": 27,
   "id": "674bdb1e-7d2c-4998-a491-7d64c33f24af",
   "metadata": {},
   "outputs": [],
   "source": [
    "import torch\n",
    "import imageio"
   ]
  },
  {
   "cell_type": "code",
   "execution_count": 40,
   "id": "0e47d3b2-87aa-4b5a-98f7-fe69772609b6",
   "metadata": {},
   "outputs": [
    {
     "name": "stderr",
     "output_type": "stream",
     "text": [
      "/tmp/ipykernel_26297/3705164690.py:1: DeprecationWarning: Starting with ImageIO v3 the behavior of this function will switch to that of iio.v3.imread. To keep the current behavior (and make this warning disappear) use `import imageio.v2 as imageio` or call `imageio.v2.imread` directly.\n",
      "  img_arr = imageio.imread(\"gold.jpg\")\n"
     ]
    },
    {
     "data": {
      "text/plain": [
       "(900, 1200, 3)"
      ]
     },
     "execution_count": 40,
     "metadata": {},
     "output_type": "execute_result"
    }
   ],
   "source": [
    "img_arr = imageio.imread(\"gold.jpg\")\n",
    "img_arr.shape"
   ]
  },
  {
   "cell_type": "code",
   "execution_count": 41,
   "id": "20239d49-57b0-4b69-882c-bc1dd3cc36c9",
   "metadata": {},
   "outputs": [],
   "source": [
    "img = torch.from_numpy(img_arr)\n",
    "out = img.permute(2,0,1)"
   ]
  },
  {
   "cell_type": "code",
   "execution_count": 13,
   "id": "42eb6d75-f989-42a6-a5d3-918175e00ff0",
   "metadata": {},
   "outputs": [
    {
     "data": {
      "text/plain": [
       "torch.int16"
      ]
     },
     "execution_count": 13,
     "metadata": {},
     "output_type": "execute_result"
    }
   ],
   "source": [
    "a = torch.zeros(6).short()\n",
    "a.dtype"
   ]
  },
  {
   "cell_type": "code",
   "execution_count": 18,
   "id": "b47a2ad8-79c4-4acb-bb2c-7b0dfb2cb5ac",
   "metadata": {},
   "outputs": [
    {
     "data": {
      "text/plain": [
       "(torch.Size([4, 3, 2]),\n",
       " torch.Size([3, 4, 2]),\n",
       " tensor([[[1., 1.],\n",
       "          [1., 1.],\n",
       "          [1., 1.],\n",
       "          [1., 1.]],\n",
       " \n",
       "         [[1., 1.],\n",
       "          [1., 1.],\n",
       "          [1., 1.],\n",
       "          [1., 1.]],\n",
       " \n",
       "         [[1., 1.],\n",
       "          [1., 1.],\n",
       "          [1., 1.],\n",
       "          [1., 1.]]]))"
      ]
     },
     "execution_count": 18,
     "metadata": {},
     "output_type": "execute_result"
    }
   ],
   "source": [
    "a = torch.ones(4,3,2)\n",
    "a_t = torch.transpose(a,0,1)\n",
    "a.shape,a_t.shape,a_t"
   ]
  },
  {
   "cell_type": "code",
   "execution_count": 21,
   "id": "fbe198b1-9890-4d40-bcbc-874474754919",
   "metadata": {},
   "outputs": [
    {
     "data": {
      "text/plain": [
       "4"
      ]
     },
     "execution_count": 21,
     "metadata": {},
     "output_type": "execute_result"
    }
   ],
   "source": [
    "points = torch.tensor([[4.0, 1.0], [5.0, 3.0], [2.0, 1.0]])\n",
    "second_point = points[2]\n",
    "second_point.storage_offset()"
   ]
  },
  {
   "cell_type": "code",
   "execution_count": null,
   "id": "bd752fa5-4770-4c7e-acf1-4cc2273d0643",
   "metadata": {},
   "outputs": [],
   "source": [
    "a = torch.tensor("
   ]
  },
  {
   "cell_type": "code",
   "execution_count": null,
   "id": "b86b7dc3-8f88-41a4-8e3b-c556e9ca815a",
   "metadata": {},
   "outputs": [],
   "source": [
    "a= c()"
   ]
  },
  {
   "cell_type": "code",
   "execution_count": null,
   "id": "e19c6018-021e-4856-92c1-6c342bed7034",
   "metadata": {},
   "outputs": [],
   "source": [
    "[1]+2+()+c()"
   ]
  }
 ],
 "metadata": {
  "kernelspec": {
   "display_name": "Python 3 (ipykernel)",
   "language": "python",
   "name": "python3"
  },
  "language_info": {
   "codemirror_mode": {
    "name": "ipython",
    "version": 3
   },
   "file_extension": ".py",
   "mimetype": "text/x-python",
   "name": "python",
   "nbconvert_exporter": "python",
   "pygments_lexer": "ipython3",
   "version": "3.10.13"
  }
 },
 "nbformat": 4,
 "nbformat_minor": 5
}
