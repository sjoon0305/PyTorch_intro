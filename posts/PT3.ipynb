{
 "cells": [
  {
   "cell_type": "raw",
   "id": "5075a0e9-a833-48f4-ba8e-8adf901d9ea4",
   "metadata": {},
   "source": [
    "---\n",
    "title: \"파이토치 딥러닝 마스터 3장\"\n",
    "author: \"유성준\"\n",
    "date: \"02/08/2024\"\n",
    "categories: [Deep Learning, Python, PyTorch]\n",
    "---"
   ]
  },
  {
   "cell_type": "markdown",
   "id": "55dc0b93-918f-40a0-93c6-d2f3b54091e7",
   "metadata": {},
   "source": [
    "# 3장 텐서 구조체 이해하기"
   ]
  },
  {
   "cell_type": "markdown",
   "id": "f75cea4b-2313-44c1-805c-f1dadc6305b4",
   "metadata": {},
   "source": [
    "- 파이토치 기본 자료구조인 텐서를 이해한다.\n",
    "- \n",
    "텐서를 인덱스로 접근해서 연산한다\n",
    "- \r\n",
    "다차원 배열 넘파이와 연계해서 다\n",
    "- 기\r\n",
    "성능 개선을 위해 GPU로 연산 처리하기"
   ]
  },
  {
   "cell_type": "markdown",
   "id": "68f53301-130c-473c-a368-a06031a27917",
   "metadata": {},
   "source": [
    "> 딥러닝 프로세스는 입력을 부동소수점 수로 변환하는 것부터 시작한다. 3장에서는 응용을 들어가기 전에 텐서 를 사용하여 파이토치가 부동소수점 수를 어떻게 다루는지를 알아보자"
   ]
  },
  {
   "cell_type": "markdown",
   "id": "5479a4ac-649d-4a61-ad75-13f831811ea0",
   "metadata": {},
   "source": [
    "`-` 부동 소수점 방식이란?"
   ]
  },
  {
   "cell_type": "markdown",
   "id": "104424c3-5f74-4512-9326-aca0aeace94c",
   "metadata": {},
   "source": [
    "실수는 보통 정수부와 소수부로 나누지만, 가수부와 지수부로 나누어 표현할 수 있다. 부동 소수점 방식은 이렇게 하나의 실수를 가수부와 지수부로 나누어 표현하는 방식이다. 앞서 살펴본 고정 소수점 방식은 제한된 자릿수로 인해 표현할 수 있는 범위가 매우 작다. 하지만 부동 소수점 방식은 다음 수식을 이용하여 매우 큰 실수까지도 표현할 수 있게 된다."
   ]
  },
  {
   "cell_type": "markdown",
   "id": "f40e3a82-107e-4b7b-8005-3e4c25c03fd1",
   "metadata": {},
   "source": [
    "## 부동소수점"
   ]
  },
  {
   "cell_type": "markdown",
   "id": "24185986-7b85-43f0-8249-c8a9facaf9e2",
   "metadata": {},
   "source": [
    "- 심층 신경망(deep neural network)은 보통 여러 단계를 거쳐 데이터 변환을 학습한다.\n",
    "- 중간 단계는 입력값의 특징을 잡아내는 부동소수점 수의 모음인 동시에 신경망에서 입력이 최종적으로 출력으로 표현되는 방법을 기술하기 위한 수단이다.\n",
    "- 즉, 중간 표현값은 입력과 이전 층의 뉴런이 가진 가중치를 조합한 결과라는 점이다. 중간 단계의 개별 표현은 자신만의 방식으로 앞 단계에서 넘어온 입력을 반환한다."
   ]
  },
  {
   "cell_type": "markdown",
   "id": "4b479aa9-6bd7-4320-83db-5a87bb69a74b",
   "metadata": {},
   "source": [
    "## 텐서 : 다차원 배열"
   ]
  },
  {
   "cell_type": "markdown",
   "id": "6b2294b3-36e8-48fc-8c4b-8e2341a06089",
   "metadata": {},
   "source": [
    "> 텐서는 일종의 배열이다. 즉, 한개나 여러개의 인덱스를 사용하여 개별적으로 값에 접근할 수 있는 형태의 숫자 모음을 저장하는 자료구조이다."
   ]
  },
  {
   "cell_type": "markdown",
   "id": "049cb5c5-b27d-4449-8bc0-ff536ccb1a3b",
   "metadata": {},
   "source": [
    "`-` 텐서의 핵심\n",
    "- 텐서는 자료구조를 사용해 이미지와 시계열 데이터 혹은 문장들을 나타내는 것이 일반 파이썬 리스트보다 더 효율적이다."
   ]
  },
  {
   "cell_type": "code",
   "execution_count": 2,
   "id": "02a957f7-7f9e-41c1-9278-1d44b886372c",
   "metadata": {},
   "outputs": [],
   "source": [
    "import torch"
   ]
  },
  {
   "cell_type": "code",
   "execution_count": 3,
   "id": "4b5b1cbd-70c2-4fdb-8729-fc6ebc85c9ba",
   "metadata": {},
   "outputs": [
    {
     "name": "stdout",
     "output_type": "stream",
     "text": [
      "tensor([0., 1., 2., 3., 4., 5., 6.])\n",
      "1\n",
      "torch.Size([7])\n",
      "torch.Size([7])\n"
     ]
    }
   ],
   "source": [
    "t = torch.FloatTensor([0., 1., 2., 3., 4., 5., 6.])\n",
    "print(t) #\t1차원 텐서인 벡터를 만든다.\n",
    "\n",
    "print(t.dim())  # rank. 즉, 차원\n",
    "print(t.shape)  # shape\n",
    "print(t.size()) # shape"
   ]
  },
  {
   "cell_type": "markdown",
   "id": "73082a63-1778-4189-8281-70bbf0b9e54f",
   "metadata": {},
   "source": [
    "- 고급 인덱싱이 가능"
   ]
  },
  {
   "cell_type": "code",
   "execution_count": 6,
   "id": "8dece7ca-b26a-4804-b399-4b1cee049772",
   "metadata": {},
   "outputs": [
    {
     "name": "stdout",
     "output_type": "stream",
     "text": [
      "tensor(0.) tensor(1.) tensor(6.)\n",
      "tensor([2., 3., 4.]) tensor([4., 5.])\n",
      "tensor([0., 1.]) tensor([3., 4., 5., 6.])\n"
     ]
    }
   ],
   "source": [
    "print(t[0], t[1], t[-1])  # 인덱스로 접근\n",
    "print(t[2:5], t[4:-1])    # 슬라이싱\n",
    "print(t[:2], t[3:])       # 슬라이싱"
   ]
  },
  {
   "cell_type": "markdown",
   "id": "794284ed-b350-4238-a135-da66f8cb38eb",
   "metadata": {},
   "source": [
    "## 텐서 API"
   ]
  },
  {
   "cell_type": "markdown",
   "id": "f865ae89-f3a9-477b-87d1-990e89088c80",
   "metadata": {},
   "source": [
    "- 텐서끼리의 연산 대부분은 torch모듈 에 존재하며 대부분이 텐서 객체에 대해 메소드처럼 호출할 수 있다."
   ]
  },
  {
   "cell_type": "markdown",
   "id": "739f9a22-a4e8-47d2-9241-dcafa5713119",
   "metadata": {},
   "source": [
    "## 텐서를 저장소 관점으로 생각해보기"
   ]
  },
  {
   "cell_type": "markdown",
   "id": "16f7c9f9-48fb-4846-973c-7cdd23bf81fe",
   "metadata": {},
   "source": [
    "- 텐서의 내부 값은 실제로는 torch.Storage인스턴스 로 관리하며 연속적인 메모리 조각으로 할당된 상태이다.\n",
    "- 저장 공간은 숫자 데이터를 가진 1차원 배열이다."
   ]
  },
  {
   "cell_type": "markdown",
   "id": "e545f97e-853c-4cdf-bda0-c97612fd089f",
   "metadata": {},
   "source": [
    "`-` 여기서 중요한 점은 서로 다른 방식으로 구성된 텐서가 동일한 메모리 공간을 가리키고 있을 수 있으나, 동일한 데이터에 대해 다른 텐서 뷰를 만드는 작업은 Storage 객체가 관리하는 데이터 크기에 상관없이 빠르게 수행된다는 점이다."
   ]
  },
  {
   "cell_type": "markdown",
   "id": "cef56188-7916-4565-b5ac-7078de214a08",
   "metadata": {},
   "source": [
    "- 텐서의 저장공간 접근 확인을 위한 간단한 코드"
   ]
  },
  {
   "cell_type": "code",
   "execution_count": 13,
   "id": "ded99fda-23fe-4aae-931c-143bfe686955",
   "metadata": {},
   "outputs": [
    {
     "data": {
      "text/plain": [
       " 4.0\n",
       " 1.0\n",
       " 5.0\n",
       " 3.0\n",
       " 2.0\n",
       " 1.0\n",
       "[torch.storage.TypedStorage(dtype=torch.float32, device=cpu) of size 6]"
      ]
     },
     "execution_count": 13,
     "metadata": {},
     "output_type": "execute_result"
    }
   ],
   "source": [
    "#텐서 저장 공간 접근\n",
    "points = torch.tensor([[4.0, 1.0], [5.0, 3.0], [2.0, 1.0]])\n",
    "points.storage()"
   ]
  },
  {
   "cell_type": "code",
   "execution_count": 14,
   "id": "9471879c-abb7-45d5-86b7-b4ea0ebd1030",
   "metadata": {},
   "outputs": [
    {
     "data": {
      "text/plain": [
       "4.0"
      ]
     },
     "execution_count": 14,
     "metadata": {},
     "output_type": "execute_result"
    }
   ],
   "source": [
    "#텐서를 거치지 않고 저장 공간을 직접 접근하는 방법 \r\n",
    "\r\n",
    "points_storage = points.storage()\r\n",
    "points_storage[0]"
   ]
  },
  {
   "cell_type": "markdown",
   "id": "de45a2c5-a1fb-449e-9b0a-1bd17bbfea7a",
   "metadata": {},
   "source": [
    "## 텐서 메타데이터 : 사이즈, 오프셋, 스트라이드"
   ]
  },
  {
   "cell_type": "markdown",
   "id": "54de6050-dda8-47f6-b2c7-6ec9d70dd07f",
   "metadata": {},
   "source": [
    "> 저장 공간을 인덱스로 접근하기 위해 텐서는 저장 공간에 포함된 몇 가지 명확한 정보, 즉 사이즈(size), 오프셋(offset), 스트라이드(stride) 에 의존한다."
   ]
  },
  {
   "cell_type": "markdown",
   "id": "e710b90f-c46f-444e-bfac-de2cb7bedc7b",
   "metadata": {},
   "source": [
    "- 사이즈(size) : 텐서의 각 차원 별로 들어가는 요소의 수를 표시한 튜플\n",
    "- 오프셋(offset) : 텐서의 첫 번째 요소를 가리키는 색인 값과 동일\n",
    "- 스트라이드(stride) : 각 차원에서 다음 요소를 가리키고 싶을 때 실제 저장 공간상에서 몇 개의 요소를 건너뛰어야하는지를 알려주는 요소"
   ]
  },
  {
   "cell_type": "markdown",
   "id": "d7b245f9-2949-4f63-8ad8-a8b9c79f09bd",
   "metadata": {},
   "source": [
    "## 텐서 전치하기"
   ]
  },
  {
   "cell_type": "code",
   "execution_count": 15,
   "id": "902f20cf-7917-4078-b7f6-fd0ef327a90a",
   "metadata": {},
   "outputs": [
    {
     "data": {
      "text/plain": [
       "tensor([[4., 1.],\n",
       "        [5., 3.],\n",
       "        [2., 1.]])"
      ]
     },
     "execution_count": 15,
     "metadata": {},
     "output_type": "execute_result"
    }
   ],
   "source": [
    "points = torch.tensor([[4.0, 1.0], [5.0, 3.0], [2.0, 1.0]])\n",
    "points"
   ]
  },
  {
   "cell_type": "code",
   "execution_count": 16,
   "id": "e9cad838-355a-4dd5-b677-98a085288c5a",
   "metadata": {},
   "outputs": [
    {
     "data": {
      "text/plain": [
       "tensor([[4., 5., 2.],\n",
       "        [1., 3., 1.]])"
      ]
     },
     "execution_count": 16,
     "metadata": {},
     "output_type": "execute_result"
    }
   ],
   "source": [
    "points.t()"
   ]
  },
  {
   "cell_type": "code",
   "execution_count": 18,
   "id": "342a4f42-c587-4f11-b2d0-cd62c2c965a4",
   "metadata": {},
   "outputs": [
    {
     "data": {
      "text/plain": [
       "tensor([[4., 5., 2.],\n",
       "        [1., 3., 1.]])"
      ]
     },
     "execution_count": 18,
     "metadata": {},
     "output_type": "execute_result"
    }
   ],
   "source": [
    "points.transpose(0,1)"
   ]
  },
  {
   "cell_type": "code",
   "execution_count": 20,
   "id": "2a6847db-e7be-4f65-a45d-e36b3a76bb32",
   "metadata": {},
   "outputs": [
    {
     "data": {
      "text/plain": [
       "tensor([[4., 5., 2.],\n",
       "        [1., 3., 1.]])"
      ]
     },
     "execution_count": 20,
     "metadata": {},
     "output_type": "execute_result"
    }
   ],
   "source": [
    "torch.transpose(points,0,1)"
   ]
  },
  {
   "cell_type": "markdown",
   "id": "b41e5d6a-f145-4119-9855-566b4d7bc179",
   "metadata": {},
   "source": [
    "> 더 높은 차원에서의 전치"
   ]
  },
  {
   "cell_type": "code",
   "execution_count": 23,
   "id": "85e16f3c-897f-4ed2-9be4-c720e4ba8e4f",
   "metadata": {},
   "outputs": [
    {
     "data": {
      "text/plain": [
       "torch.Size([7, 4, 2])"
      ]
     },
     "execution_count": 23,
     "metadata": {},
     "output_type": "execute_result"
    }
   ],
   "source": [
    "# 0과 2 의 차원이 바뀐다\n",
    "s = torch.ones(2,4,7)\n",
    "tt = s.transpose(0,2)\n",
    "tt.shape"
   ]
  },
  {
   "cell_type": "markdown",
   "id": "19356de3-767f-45f2-958c-e28b64905e01",
   "metadata": {},
   "source": [
    "## 인접한 텐서"
   ]
  },
  {
   "cell_type": "code",
   "execution_count": 25,
   "id": "829f35c1-8215-46eb-88c0-d1249a164d12",
   "metadata": {},
   "outputs": [
    {
     "data": {
      "text/plain": [
       "True"
      ]
     },
     "execution_count": 25,
     "metadata": {},
     "output_type": "execute_result"
    }
   ],
   "source": [
    "points = torch.tensor([[4.0, 1.0], [5.0, 3.0], [2.0, 1.0]])\n",
    "points_t = points.t()\n",
    "points.is_contiguous()"
   ]
  },
  {
   "cell_type": "code",
   "execution_count": 26,
   "id": "3a12f24f-ca3c-4ce9-9394-4f3f183840f7",
   "metadata": {},
   "outputs": [
    {
     "data": {
      "text/plain": [
       "False"
      ]
     },
     "execution_count": 26,
     "metadata": {},
     "output_type": "execute_result"
    }
   ],
   "source": [
    "points_t.is_contiguous()"
   ]
  },
  {
   "cell_type": "code",
   "execution_count": 29,
   "id": "5aaa7ef2-2946-4813-9d50-12bf1ac2565c",
   "metadata": {},
   "outputs": [
    {
     "data": {
      "text/plain": [
       "tensor([[4., 1.],\n",
       "        [5., 3.],\n",
       "        [2., 1.]])"
      ]
     },
     "execution_count": 29,
     "metadata": {},
     "output_type": "execute_result"
    }
   ],
   "source": [
    "points"
   ]
  },
  {
   "cell_type": "code",
   "execution_count": 27,
   "id": "71cb2243-238e-42ef-8b38-1b54f2045af2",
   "metadata": {},
   "outputs": [
    {
     "data": {
      "text/plain": [
       " 4.0\n",
       " 1.0\n",
       " 5.0\n",
       " 3.0\n",
       " 2.0\n",
       " 1.0\n",
       "[torch.storage.TypedStorage(dtype=torch.float32, device=cpu) of size 6]"
      ]
     },
     "execution_count": 27,
     "metadata": {},
     "output_type": "execute_result"
    }
   ],
   "source": [
    "points.storage()"
   ]
  },
  {
   "cell_type": "code",
   "execution_count": 30,
   "id": "967c8acd-138c-4036-8019-f2c4f10d2a32",
   "metadata": {},
   "outputs": [
    {
     "data": {
      "text/plain": [
       "tensor([[4., 5., 2.],\n",
       "        [1., 3., 1.]])"
      ]
     },
     "execution_count": 30,
     "metadata": {},
     "output_type": "execute_result"
    }
   ],
   "source": [
    "points_t"
   ]
  },
  {
   "cell_type": "code",
   "execution_count": 31,
   "id": "1a49f588-fcee-4042-9cba-615026a5090f",
   "metadata": {},
   "outputs": [
    {
     "data": {
      "text/plain": [
       " 4.0\n",
       " 1.0\n",
       " 5.0\n",
       " 3.0\n",
       " 2.0\n",
       " 1.0\n",
       "[torch.storage.TypedStorage(dtype=torch.float32, device=cpu) of size 6]"
      ]
     },
     "execution_count": 31,
     "metadata": {},
     "output_type": "execute_result"
    }
   ],
   "source": [
    "# 인접하지 않은 텐서가 나오는 것을 볼 수 있다\n",
    "points_t.storage()"
   ]
  },
  {
   "cell_type": "code",
   "execution_count": 34,
   "id": "d48f8cea-b266-42d4-8038-3237c87a1b24",
   "metadata": {},
   "outputs": [
    {
     "data": {
      "text/plain": [
       "tensor([[4., 5., 2.],\n",
       "        [1., 3., 1.]])"
      ]
     },
     "execution_count": 34,
     "metadata": {},
     "output_type": "execute_result"
    }
   ],
   "source": [
    "ptc = points_t.contiguous()\n",
    "ptc"
   ]
  },
  {
   "cell_type": "code",
   "execution_count": 35,
   "id": "b0448183-27d2-4010-b995-343ff0061511",
   "metadata": {},
   "outputs": [
    {
     "data": {
      "text/plain": [
       " 4.0\n",
       " 5.0\n",
       " 2.0\n",
       " 1.0\n",
       " 3.0\n",
       " 1.0\n",
       "[torch.storage.TypedStorage(dtype=torch.float32, device=cpu) of size 6]"
      ]
     },
     "execution_count": 35,
     "metadata": {},
     "output_type": "execute_result"
    }
   ],
   "source": [
    "ptc.storage()"
   ]
  }
 ],
 "metadata": {
  "kernelspec": {
   "display_name": "Python 3 (ipykernel)",
   "language": "python",
   "name": "python3"
  },
  "language_info": {
   "codemirror_mode": {
    "name": "ipython",
    "version": 3
   },
   "file_extension": ".py",
   "mimetype": "text/x-python",
   "name": "python",
   "nbconvert_exporter": "python",
   "pygments_lexer": "ipython3",
   "version": "3.10.13"
  }
 },
 "nbformat": 4,
 "nbformat_minor": 5
}
